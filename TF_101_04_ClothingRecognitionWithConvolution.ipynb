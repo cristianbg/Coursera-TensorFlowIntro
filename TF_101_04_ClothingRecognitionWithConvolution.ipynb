{
  "nbformat": 4,
  "nbformat_minor": 0,
  "metadata": {
    "colab": {
      "name": "TF_101.04-ClothingRecognitionWithConvolution.ipynb",
      "provenance": [],
      "authorship_tag": "ABX9TyOm+3RYVYAeQLt1A0t4y+4O",
      "include_colab_link": true
    },
    "kernelspec": {
      "name": "python3",
      "display_name": "Python 3"
    }
  },
  "cells": [
    {
      "cell_type": "markdown",
      "metadata": {
        "id": "view-in-github",
        "colab_type": "text"
      },
      "source": [
        "<a href=\"https://colab.research.google.com/github/cristianbg/Coursera-TensorFlowIntro/blob/main/TF_101_04_ClothingRecognitionWithConvolution.ipynb\" target=\"_parent\"><img src=\"https://colab.research.google.com/assets/colab-badge.svg\" alt=\"Open In Colab\"/></a>"
      ]
    },
    {
      "cell_type": "code",
      "metadata": {
        "id": "-DBChIXTijzZ"
      },
      "source": [
        "import tensorflow as tf\r\n",
        "# print(tf.__version__)   # 2.4.0"
      ],
      "execution_count": 1,
      "outputs": []
    },
    {
      "cell_type": "code",
      "metadata": {
        "id": "kg_kaKMCjFxq"
      },
      "source": [
        "# use callback to stop training when 'accuracy'/'loss' reaches a threshold\r\n",
        "class myCallback(tf.keras.callbacks.Callback):\r\n",
        "    def on_epoch_end(self, epoch, logs={}):\r\n",
        "        if(logs.get('accuracy') > 0.9):\r\n",
        "        # if(logs.get('loss') < 0.4):\r\n",
        "            print(\"\\nReached 90% accuracy, so cancelling training\")\r\n",
        "            self.model.stop_training = True\r\n",
        "\r\n",
        "callbacks = myCallback()"
      ],
      "execution_count": 2,
      "outputs": []
    },
    {
      "cell_type": "code",
      "metadata": {
        "id": "AGhU_j9Tjbey"
      },
      "source": [
        "mnist = tf.keras.datasets.fashion_mnist\r\n",
        "(training_images, training_labels), (test_images, test_labels) = mnist.load_data()\r\n",
        "\r\n",
        "# reshape the data, in order to be recognized by the convolution\r\n",
        "training_images = training_images.reshape(60000, 28, 28, 1)\r\n",
        "test_images = test_images.reshape(10000, 28, 28, 1)\r\n",
        "\r\n",
        "training_images = training_images / 255.0\r\n",
        "test_images = test_images / 255.0"
      ],
      "execution_count": null,
      "outputs": []
    },
    {
      "cell_type": "code",
      "metadata": {
        "id": "2rUwjWkbj6Pw"
      },
      "source": [
        "model = tf.keras.Sequential([\r\n",
        "                          tf.keras.layers.Conv2D(64, (3, 3), activation = 'relu', input_shape=(28, 28, 1)),\r\n",
        "                          tf.keras.layers.MaxPooling2D(2, 2),\r\n",
        "                          tf.keras.layers.Conv2D(64, (3,3), activation='relu'),\r\n",
        "                          tf.keras.layers.MaxPooling2D(2, 2),\r\n",
        "                          tf.keras.layers.Flatten(),\r\n",
        "                          tf.keras.layers.Dense(512, activation=tf.nn.relu),\r\n",
        "                          tf.keras.layers.Dense(10, activation=tf.nn.softmax)\r\n",
        "])\r\n",
        "\r\n",
        "model.compile(optimizer='adam',\r\n",
        "              loss='sparse_categorical_crossentropy',\r\n",
        "              metrics=['accuracy'])\r\n",
        "model.summary()\r\n",
        "model.fit(training_images, training_labels, epochs=5, callbacks=[callbacks])\r\n",
        "model.evaluate(test_images, test_labels)"
      ],
      "execution_count": null,
      "outputs": []
    },
    {
      "cell_type": "markdown",
      "metadata": {
        "id": "s9F-rF1-k4qm"
      },
      "source": [
        "Without convolution\r\n",
        "- training\r\n",
        "\r\n",
        "Epoch 5/5\r\n",
        "1875/1875 [==============================] - 7s 4ms/step - loss: 0.2783 - accuracy: 0.8976\r\n",
        "\r\n",
        "- validation\r\n",
        "\r\n",
        "313/313 [==============================] - 1s 2ms/step - loss: 0.3544 - accuracy: 0.8762\r\n",
        "\r\n",
        "With convolution\r\n",
        "- training\r\n",
        "\r\n",
        "Epoch 3/5\r\n",
        "1875/1875 [==============================] - 86s 46ms/step - loss: 0.2339 - accuracy: 0.9137\r\n",
        "\r\n",
        "- validation\r\n",
        "\r\n",
        "313/313 [==============================] - 4s 13ms/step - loss: 0.2662 - accuracy: 0.9003\r\n"
      ]
    },
    {
      "cell_type": "code",
      "metadata": {
        "colab": {
          "base_uri": "https://localhost:8080/"
        },
        "id": "fJGV-amVlgYL",
        "outputId": "a016a258-e96b-4ac2-cb83-8ae603079833"
      },
      "source": [
        "print(test_labels[:100])"
      ],
      "execution_count": 6,
      "outputs": [
        {
          "output_type": "stream",
          "text": [
            "[9 2 1 1 6 1 4 6 5 7 4 5 7 3 4 1 2 4 8 0 2 5 7 9 1 4 6 0 9 3 8 8 3 3 8 0 7\n",
            " 5 7 9 6 1 3 7 6 7 2 1 2 2 4 4 5 8 2 2 8 4 8 0 7 7 8 5 1 1 2 3 9 8 7 0 2 6\n",
            " 2 3 1 2 8 4 1 8 5 9 5 0 3 2 0 6 5 3 6 7 1 8 0 1 4 2]\n"
          ],
          "name": "stdout"
        }
      ]
    },
    {
      "cell_type": "code",
      "metadata": {
        "colab": {
          "base_uri": "https://localhost:8080/",
          "height": 268
        },
        "id": "QX1Pc1ArZ2uZ",
        "outputId": "c0cffd5d-e628-4c3b-95fd-4d0cf11134de"
      },
      "source": [
        "import matplotlib.pyplot as plt\r\n",
        "from tensorflow.keras import models\r\n",
        "\r\n",
        "f, axarr = plt.subplots(3, 4)\r\n",
        "\r\n",
        "# 1-trousers  2   3   5\r\n",
        "# 2-handbag\r\n",
        "# 6-shirt     4   7  26\r\n",
        "# 9-shoes     0  23  28\r\n",
        "\r\n",
        "FIRST_IMAGE = 4\r\n",
        "SECOND_IMAGE = 7\r\n",
        "THIRD_IMAGE = 26\r\n",
        "CONVOLUTION_NUMBER = 5\r\n",
        "\r\n",
        "# use the 'layers API'\r\n",
        "# create a list of layers outputs\r\n",
        "layer_outputs = [layer.output for layer in model.layers]\r\n",
        "activation_model = models.Model(inputs=model.input, outputs=layer_outputs)\r\n",
        "\r\n",
        "# treat each item in the layer as an individual activation model\r\n",
        "for x in range(0, 4):\r\n",
        "    f1 = activation_model.predict(test_images[FIRST_IMAGE].reshape(1, 28, 28, 1))[x]\r\n",
        "    axarr[0, x].imshow(f1[0, :, :, CONVOLUTION_NUMBER], cmap='inferno')\r\n",
        "    axarr[0, x].grid(False)\r\n",
        "\r\n",
        "    f2 = activation_model.predict(test_images[SECOND_IMAGE].reshape(1, 28, 28, 1))[x]\r\n",
        "    axarr[1, x].imshow(f2[0, :, :, CONVOLUTION_NUMBER], cmap='inferno')\r\n",
        "    axarr[1, x].grid(False)\r\n",
        "\r\n",
        "    f3 = activation_model.predict(test_images[THIRD_IMAGE].reshape(1, 28, 28, 1))[x]\r\n",
        "    axarr[2, x].imshow(f3[0, :, :, CONVOLUTION_NUMBER], cmap='inferno')\r\n",
        "    axarr[2, x].grid(False)\r\n",
        "\r\n"
      ],
      "execution_count": 25,
      "outputs": [
        {
          "output_type": "display_data",
          "data": {
            "image/png": "[encoded data removed]",
            "text/plain": [
              "<Figure size 432x288 with 12 Axes>"
            ]
          },
          "metadata": {
            "tags": [],
            "needs_background": "light"
          }
        }
      ]
    }
  ]
}