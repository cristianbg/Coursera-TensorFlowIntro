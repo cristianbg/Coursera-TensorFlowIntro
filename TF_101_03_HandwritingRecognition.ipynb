{
  "nbformat": 4,
  "nbformat_minor": 0,
  "metadata": {
    "colab": {
      "name": "TF_101.03-HandwritingRecognition.ipynb",
      "provenance": [],
      "authorship_tag": "ABX9TyN00HbQMl+nQObRADx7os4L",
      "include_colab_link": true
    },
    "kernelspec": {
      "name": "python3",
      "display_name": "Python 3"
    }
  },
  "cells": [
    {
      "cell_type": "markdown",
      "metadata": {
        "id": "view-in-github",
        "colab_type": "text"
      },
      "source": [
        "<a href=\"https://colab.research.google.com/github/cristianbg/Coursera-TensorFlowIntro/blob/main/TF_101_03_HandwritingRecognition.ipynb\" target=\"_parent\"><img src=\"https://colab.research.google.com/assets/colab-badge.svg\" alt=\"Open In Colab\"/></a>"
      ]
    },
    {
      "cell_type": "code",
      "metadata": {
        "id": "2NR0MG3Qa9ft"
      },
      "source": [
        "import tensorflow as tf"
      ],
      "execution_count": 1,
      "outputs": []
    },
    {
      "cell_type": "code",
      "metadata": {
        "id": "3unYy-PobgIG"
      },
      "source": [
        "    class myCallback(tf.keras.callbacks.Callback):\r\n",
        "        def on_epoch_end(self, epoch, logs={}):\r\n",
        "            if(logs.get('accuracy') > 0.99):\r\n",
        "                print(\"\\nReached 99% accuracy so cancelling training!\")\r\n",
        "                self.model.stop_training = True\r\n",
        "                \r\n",
        "    callbacks = myCallback()\r\n"
      ],
      "execution_count": 2,
      "outputs": []
    },
    {
      "cell_type": "code",
      "metadata": {
        "id": "wKrNWqYobzgs"
      },
      "source": [
        "mnist = tf.keras.datasets.mnist"
      ],
      "execution_count": 3,
      "outputs": []
    },
    {
      "cell_type": "code",
      "metadata": {
        "colab": {
          "base_uri": "https://localhost:8080/"
        },
        "id": "8auFOLgdcCPm",
        "outputId": "0901e8e3-aeb6-41e6-995d-b2d6802ec473"
      },
      "source": [
        "(x_train, y_train),(x_test, y_test) = mnist.load_data()\r\n"
      ],
      "execution_count": 4,
      "outputs": [
        {
          "output_type": "stream",
          "text": [
            "Downloading data from https://storage.googleapis.com/tensorflow/tf-keras-datasets/mnist.npz\n",
            "11493376/11490434 [==============================] - 0s 0us/step\n"
          ],
          "name": "stdout"
        }
      ]
    },
    {
      "cell_type": "code",
      "metadata": {
        "id": "nsp8PrxdcNUE"
      },
      "source": [
        "x_train = x_train / 255.0\r\n",
        "x_test = x_test / 255.0\r\n"
      ],
      "execution_count": 5,
      "outputs": []
    },
    {
      "cell_type": "code",
      "metadata": {
        "id": "g6hjZV4ccQGF"
      },
      "source": [
        "model = tf.keras.models.Sequential([         \r\n",
        "    tf.keras.layers.Flatten(),\r\n",
        "    tf.keras.layers.Dense(128, activation=tf.nn.relu),\r\n",
        "    tf.keras.layers.Dense(10, activation=tf.nn.softmax)    \r\n",
        "])\r\n"
      ],
      "execution_count": 8,
      "outputs": []
    },
    {
      "cell_type": "code",
      "metadata": {
        "id": "upkRnAQQeO73"
      },
      "source": [
        "model.compile(optimizer='adam',\r\n",
        "              loss='sparse_categorical_crossentropy',\r\n",
        "              metrics=['accuracy'])\r\n"
      ],
      "execution_count": 11,
      "outputs": []
    },
    {
      "cell_type": "code",
      "metadata": {
        "colab": {
          "base_uri": "https://localhost:8080/"
        },
        "id": "6jZdRrO1eVOK",
        "outputId": "acc36776-eab3-45d3-c8f2-08e0bf8168d8"
      },
      "source": [
        "model.fit(x_train,\r\n",
        "          y_train, \r\n",
        "          epochs=10,\r\n",
        "          callbacks=[callbacks])\r\n"
      ],
      "execution_count": 12,
      "outputs": [
        {
          "output_type": "stream",
          "text": [
            "Epoch 1/10\n",
            "1875/1875 [==============================] - 4s 2ms/step - loss: 0.4398 - accuracy: 0.8734\n",
            "Epoch 2/10\n",
            "1875/1875 [==============================] - 4s 2ms/step - loss: 0.1222 - accuracy: 0.9641\n",
            "Epoch 3/10\n",
            "1875/1875 [==============================] - 4s 2ms/step - loss: 0.0793 - accuracy: 0.9761\n",
            "Epoch 4/10\n",
            "1875/1875 [==============================] - 4s 2ms/step - loss: 0.0597 - accuracy: 0.9814\n",
            "Epoch 5/10\n",
            "1875/1875 [==============================] - 4s 2ms/step - loss: 0.0455 - accuracy: 0.9860\n",
            "Epoch 6/10\n",
            "1875/1875 [==============================] - 4s 2ms/step - loss: 0.0332 - accuracy: 0.9896\n",
            "Epoch 7/10\n",
            "1875/1875 [==============================] - 4s 2ms/step - loss: 0.0266 - accuracy: 0.9922\n",
            "\n",
            "Reached 99% accuracy so cancelling training!\n"
          ],
          "name": "stdout"
        },
        {
          "output_type": "execute_result",
          "data": {
            "text/plain": [
              "<tensorflow.python.keras.callbacks.History at 0x7fd3fa1a0908>"
            ]
          },
          "metadata": {
            "tags": []
          },
          "execution_count": 12
        }
      ]
    }
  ]
}