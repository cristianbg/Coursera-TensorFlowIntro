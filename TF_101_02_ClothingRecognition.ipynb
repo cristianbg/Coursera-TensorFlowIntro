{
  "nbformat": 4,
  "nbformat_minor": 0,
  "metadata": {
    "colab": {
      "name": "TF_101.02-ClothingRecognition.ipynb",
      "provenance": [],
      "authorship_tag": "ABX9TyOMAve/sR/eSE///ZrrYQAA",
      "include_colab_link": true
    },
    "kernelspec": {
      "name": "python3",
      "display_name": "Python 3"
    }
  },
  "cells": [
    {
      "cell_type": "markdown",
      "metadata": {
        "id": "view-in-github",
        "colab_type": "text"
      },
      "source": [
        "<a href=\"https://colab.research.google.com/github/cristianbg/Coursera-TensorFlowIntro/blob/main/TF_101_02_ClothingRecognition.ipynb\" target=\"_parent\"><img src=\"https://colab.research.google.com/assets/colab-badge.svg\" alt=\"Open In Colab\"/></a>"
      ]
    },
    {
      "cell_type": "code",
      "metadata": {
        "id": "LF2mt-L599Df"
      },
      "source": [
        "import tensorflow as tf\r\n",
        "# print(tf.__version__)   # 2.4.0\r\n",
        "import matplotlib.pyplot as plt\r\n",
        "from tensorflow import keras"
      ],
      "execution_count": 17,
      "outputs": []
    },
    {
      "cell_type": "code",
      "metadata": {
        "id": "QEaXrlUWQFnK"
      },
      "source": [
        "# use callback to stop training when 'loss' reaches a threshold\r\n",
        "class myCallback(tf.keras.callbacks.Callback):\r\n",
        "    def on_epoch_end(self, epoch, logs={}):\r\n",
        "        if(logs.get('loss') < 0.4):\r\n",
        "            print(\"\\nReached 60% accuracy, so cancelling training\")\r\n",
        "            self.model.stop_training = True\r\n",
        "\r\n",
        "callbacks = myCallback()"
      ],
      "execution_count": 18,
      "outputs": []
    },
    {
      "cell_type": "code",
      "metadata": {
        "id": "z0axK7_A-0GA"
      },
      "source": [
        "mnist = keras.datasets.fashion_mnist"
      ],
      "execution_count": 19,
      "outputs": []
    },
    {
      "cell_type": "code",
      "metadata": {
        "id": "wcx_1_oB_aWx"
      },
      "source": [
        "(training_images, training_labels), (test_images, test_labels) = mnist.load_data()"
      ],
      "execution_count": 20,
      "outputs": []
    },
    {
      "cell_type": "code",
      "metadata": {
        "id": "gTih6fJG_-Bf"
      },
      "source": [
        "# plt.imshow(training_images[100])\r\n",
        "# print(training_labels[10])\r\n",
        "# print(training_images[10])"
      ],
      "execution_count": 46,
      "outputs": []
    },
    {
      "cell_type": "code",
      "metadata": {
        "id": "PsFz2ylVDaT9"
      },
      "source": [
        "# normalize data\r\n",
        "training_images = training_images / 255.0\r\n",
        "test_images = test_images / 255.0"
      ],
      "execution_count": 21,
      "outputs": []
    },
    {
      "cell_type": "markdown",
      "metadata": {
        "id": "mqb-GeN91bcc"
      },
      "source": [
        "Rules of thumb:\r\n",
        "- first layer in the network should be the same shape as the data\r\n",
        "    => Flatten  28x28 |-> 784x1\r\n",
        "- the number of neurons in the last layer should match the number of classes  (10)\r\n",
        "- adding an extra intermediate layer doesn't necessarily have an impact for a simple set of data"
      ]
    },
    {
      "cell_type": "code",
      "metadata": {
        "id": "v6iWoJmkE2i1"
      },
      "source": [
        "model = keras.Sequential([\r\n",
        "                          keras.layers.Flatten(),\r\n",
        "                          keras.layers.Dense(512, activation=tf.nn.relu),\r\n",
        "                          keras.layers.Dense(10, activation=tf.nn.softmax)\r\n",
        "])"
      ],
      "execution_count": 22,
      "outputs": []
    },
    {
      "cell_type": "code",
      "metadata": {
        "colab": {
          "base_uri": "https://localhost:8080/"
        },
        "id": "b7S7t3q2PEoO",
        "outputId": "266527be-eaa8-48d5-9832-083b1f104450"
      },
      "source": [
        "model.compile(optimizer=tf.optimizers.Adam(),\r\n",
        "              loss='sparse_categorical_crossentropy',\r\n",
        "              metrics=['accuracy'])\r\n",
        "model.fit(training_images, training_labels, epochs=5, callbacks=[callbacks])"
      ],
      "execution_count": 23,
      "outputs": [
        {
          "output_type": "stream",
          "text": [
            "Epoch 1/5\n",
            "1875/1875 [==============================] - 7s 3ms/step - loss: 0.5849 - accuracy: 0.7939\n",
            "Epoch 2/5\n",
            "1875/1875 [==============================] - 6s 3ms/step - loss: 0.3650 - accuracy: 0.8660\n",
            "\n",
            "Reached 60% accuracy, so cancelling training\n"
          ],
          "name": "stdout"
        },
        {
          "output_type": "execute_result",
          "data": {
            "text/plain": [
              "<tensorflow.python.keras.callbacks.History at 0x7fd2af4af6a0>"
            ]
          },
          "metadata": {
            "tags": []
          },
          "execution_count": 23
        }
      ]
    },
    {
      "cell_type": "code",
      "metadata": {
        "colab": {
          "base_uri": "https://localhost:8080/"
        },
        "id": "q5ENn6XhRF3X",
        "outputId": "93488b83-2b3d-4f19-b1ea-4c7b0c438a20"
      },
      "source": [
        "model.evaluate(test_images, test_labels)"
      ],
      "execution_count": 16,
      "outputs": [
        {
          "output_type": "stream",
          "text": [
            "313/313 [==============================] - 1s 2ms/step - loss: 0.3368 - accuracy: 0.8805\n"
          ],
          "name": "stdout"
        },
        {
          "output_type": "execute_result",
          "data": {
            "text/plain": [
              "[0.3367604911327362, 0.8805000185966492]"
            ]
          },
          "metadata": {
            "tags": []
          },
          "execution_count": 16
        }
      ]
    },
    {
      "cell_type": "markdown",
      "metadata": {
        "id": "ZCsunX99sTNm"
      },
      "source": [
        "## Exercises"
      ]
    },
    {
      "cell_type": "markdown",
      "metadata": {
        "id": "Ld9J_Cgisgx8"
      },
      "source": [
        "(1) How do you know that this list tells you that the item is an ankle boot?"
      ]
    },
    {
      "cell_type": "code",
      "metadata": {
        "colab": {
          "base_uri": "https://localhost:8080/"
        },
        "id": "MOtOKGwzqxQq",
        "outputId": "1642266c-e265-41db-ae00-2a6981d88b95"
      },
      "source": [
        "classifications = model.predict(test_images)\r\n",
        "print(classifications[0])      # 0-based list of probabilities of the item belonging to each category\r\n",
        "print(test_labels[0])"
      ],
      "execution_count": 8,
      "outputs": [
        {
          "output_type": "stream",
          "text": [
            "[1.7528132e-16 5.0670268e-10 5.2194410e-22 2.0853321e-12 8.9024649e-25\n",
            " 8.5158402e-04 4.1339165e-13 4.9281299e-02 1.5667011e-13 9.4986713e-01]\n",
            "9\n"
          ],
          "name": "stdout"
        }
      ]
    },
    {
      "cell_type": "code",
      "metadata": {
        "id": "vzmheh9csYLG"
      },
      "source": [
        ""
      ],
      "execution_count": null,
      "outputs": []
    },
    {
      "cell_type": "markdown",
      "metadata": {
        "id": "w16sX5DjtOk-"
      },
      "source": [
        "(2) Experiment with different neuron values: 128, 256, 512, 1024"
      ]
    },
    {
      "cell_type": "code",
      "metadata": {
        "id": "oqwdSCo7t2f5"
      },
      "source": [
        "model = keras.Sequential([\r\n",
        "                          keras.layers.Flatten(),\r\n",
        "                          keras.layers.Dense(512, activation=tf.nn.relu),\r\n",
        "                          keras.layers.Dense(10, activation=tf.nn.softmax)\r\n",
        "])\r\n",
        "\r\n",
        "# 128 neurons:   loss: 0.3458 - accuracy: 0.8760    --> 2ms/step\r\n",
        "# 256 neurons:   loss: 0.3441 - accuracy: 0.8764\r\n",
        "# 512 neurons:   loss: 0.3486 - accuracy: 0.8784    --> 4ms/step slower but more accurate\r\n",
        "# 1024 neurons:  loss: 0.3477 - accuracy: 0.8759    --> 6ms/step diminishing returns"
      ],
      "execution_count": 13,
      "outputs": []
    },
    {
      "cell_type": "markdown",
      "metadata": {
        "id": "vrRNF5LKzUCL"
      },
      "source": [
        "(3) Skip data normalization"
      ]
    },
    {
      "cell_type": "code",
      "metadata": {
        "id": "rXBDiXviuXzm"
      },
      "source": [
        "# normalize data\r\n",
        "# training_images = training_images / 255.0\r\n",
        "# test_images = test_images / 255.0\r\n",
        "\r\n",
        "# 512 neurons:   loss: 0.4705 - accuracy: 0.8421    --> 3ms/step faster but less accurate"
      ],
      "execution_count": null,
      "outputs": []
    }
  ]
}