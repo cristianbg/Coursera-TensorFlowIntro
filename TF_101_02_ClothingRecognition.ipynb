{
  "nbformat": 4,
  "nbformat_minor": 0,
  "metadata": {
    "colab": {
      "name": "TF_101.02-ClothingRecognition.ipynb",
      "provenance": [],
      "authorship_tag": "ABX9TyOjpBezkCCXi6YCIkuaoF7z",
      "include_colab_link": true
    },
    "kernelspec": {
      "name": "python3",
      "display_name": "Python 3"
    }
  },
  "cells": [
    {
      "cell_type": "markdown",
      "metadata": {
        "id": "view-in-github",
        "colab_type": "text"
      },
      "source": [
        "<a href=\"https://colab.research.google.com/github/cristianbg/Coursera-TensorFlowIntro/blob/main/TF_101_02_ClothingRecognition.ipynb\" target=\"_parent\"><img src=\"https://colab.research.google.com/assets/colab-badge.svg\" alt=\"Open In Colab\"/></a>"
      ]
    },
    {
      "cell_type": "code",
      "metadata": {
        "id": "LF2mt-L599Df"
      },
      "source": [
        "import tensorflow as tf\r\n",
        "# print(tf.__version__)   # 2.4.0\r\n",
        "import matplotlib.pyplot as plt\r\n",
        "from tensorflow import keras"
      ],
      "execution_count": 31,
      "outputs": []
    },
    {
      "cell_type": "code",
      "metadata": {
        "id": "z0axK7_A-0GA"
      },
      "source": [
        "mnist = keras.datasets.fashion_mnist"
      ],
      "execution_count": 20,
      "outputs": []
    },
    {
      "cell_type": "code",
      "metadata": {
        "id": "wcx_1_oB_aWx"
      },
      "source": [
        "(training_images, training_labels), (test_images, test_labels) = mnist.load_data()"
      ],
      "execution_count": 21,
      "outputs": []
    },
    {
      "cell_type": "code",
      "metadata": {
        "id": "gTih6fJG_-Bf"
      },
      "source": [
        "plt.imshow(training_images[100])\r\n",
        "# print(training_labels[10])\r\n",
        "# print(training_images[10])"
      ],
      "execution_count": null,
      "outputs": []
    },
    {
      "cell_type": "code",
      "metadata": {
        "id": "PsFz2ylVDaT9"
      },
      "source": [
        "# normalize data\r\n",
        "training_images = training_images / 255.0\r\n",
        "test_images = test_images / 255.0"
      ],
      "execution_count": 23,
      "outputs": []
    },
    {
      "cell_type": "code",
      "metadata": {
        "id": "v6iWoJmkE2i1"
      },
      "source": [
        "model = keras.Sequential([\r\n",
        "                          keras.layers.Flatten(),\r\n",
        "                          keras.layers.Dense(128, activation=tf.nn.relu),\r\n",
        "                          keras.layers.Dense(10, activation=tf.nn.softmax)\r\n",
        "])"
      ],
      "execution_count": 25,
      "outputs": []
    },
    {
      "cell_type": "code",
      "metadata": {
        "id": "b7S7t3q2PEoO"
      },
      "source": [
        "model.compile(optimizer=tf.optimizers.Adam(),\r\n",
        "              loss='sparse_categorical_crossentropy')\r\n",
        "model.fit(training_images, training_labels, epochs=5)"
      ],
      "execution_count": null,
      "outputs": []
    },
    {
      "cell_type": "code",
      "metadata": {
        "colab": {
          "base_uri": "https://localhost:8080/"
        },
        "id": "q5ENn6XhRF3X",
        "outputId": "1d06130d-6464-470f-f13d-377d96b90bf1"
      },
      "source": [
        "model.evaluate(test_images, test_labels)"
      ],
      "execution_count": 30,
      "outputs": [
        {
          "output_type": "stream",
          "text": [
            "313/313 [==============================] - 1s 1ms/step - loss: 0.3538\n"
          ],
          "name": "stdout"
        },
        {
          "output_type": "execute_result",
          "data": {
            "text/plain": [
              "0.35380712151527405"
            ]
          },
          "metadata": {
            "tags": []
          },
          "execution_count": 30
        }
      ]
    }
  ]
}